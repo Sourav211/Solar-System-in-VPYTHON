{
 "cells": [
  {
   "cell_type": "code",
   "execution_count": null,
   "metadata": {},
   "outputs": [
    {
     "data": {
      "text/html": [
       "<div id=\"glowscript\" class=\"glowscript\"></div>"
      ],
      "text/plain": [
       "<IPython.core.display.HTML object>"
      ]
     },
     "metadata": {},
     "output_type": "display_data"
    },
    {
     "data": {
      "application/javascript": [
       "if (typeof Jupyter !== \"undefined\") { window.__context = { glowscript_container: $(\"#glowscript\").removeAttr(\"id\")};}else{ element.textContent = ' ';}"
      ],
      "text/plain": [
       "<IPython.core.display.Javascript object>"
      ]
     },
     "metadata": {},
     "output_type": "display_data"
    },
    {
     "data": {
      "application/javascript": [
       "if (typeof Jupyter !== \"undefined\") {require.undef(\"nbextensions/vpython_libraries/glow.min\");}else{element.textContent = ' ';}"
      ],
      "text/plain": [
       "<IPython.core.display.Javascript object>"
      ]
     },
     "metadata": {},
     "output_type": "display_data"
    },
    {
     "data": {
      "application/javascript": [
       "if (typeof Jupyter !== \"undefined\") {require.undef(\"nbextensions/vpython_libraries/glowcomm\");}else{element.textContent = ' ';}"
      ],
      "text/plain": [
       "<IPython.core.display.Javascript object>"
      ]
     },
     "metadata": {},
     "output_type": "display_data"
    },
    {
     "data": {
      "application/javascript": [
       "if (typeof Jupyter !== \"undefined\") {require.undef(\"nbextensions/vpython_libraries/jquery-ui.custom.min\");}else{element.textContent = ' ';}"
      ],
      "text/plain": [
       "<IPython.core.display.Javascript object>"
      ]
     },
     "metadata": {},
     "output_type": "display_data"
    },
    {
     "data": {
      "application/javascript": [
       "if (typeof Jupyter !== \"undefined\") {require([\"nbextensions/vpython_libraries/glow.min\"], function(){console.log(\"GLOW LOADED\");});}else{element.textContent = ' ';}"
      ],
      "text/plain": [
       "<IPython.core.display.Javascript object>"
      ]
     },
     "metadata": {},
     "output_type": "display_data"
    },
    {
     "data": {
      "application/javascript": [
       "if (typeof Jupyter !== \"undefined\") {require([\"nbextensions/vpython_libraries/glowcomm\"], function(){console.log(\"GLOWCOMM LOADED\");});}else{element.textContent = ' ';}"
      ],
      "text/plain": [
       "<IPython.core.display.Javascript object>"
      ]
     },
     "metadata": {},
     "output_type": "display_data"
    },
    {
     "data": {
      "application/javascript": [
       "if (typeof Jupyter !== \"undefined\") {require([\"nbextensions/vpython_libraries/jquery-ui.custom.min\"], function(){console.log(\"JQUERY LOADED\");});}else{element.textContent = ' ';}"
      ],
      "text/plain": [
       "<IPython.core.display.Javascript object>"
      ]
     },
     "metadata": {},
     "output_type": "display_data"
    }
   ],
   "source": [
    "from vpython import *\n",
    "'''e_radius=\n",
    "e_ang_vel='''\n",
    "Sun=sphere(pos=vector(0,0,0),radius=10.9,emissive=True,texture=\"sun.jpg\")\n",
    "Mercury=sphere(pos=vector(0,0,11.2),radius=0.038,emissive=True,texture=\"mercury.png\")\n",
    "Venus=sphere(pos=vector(0,0,11.578),radius=0.095,emissive=True,texture=\"venus.png\")\n",
    "Earth=sphere(pos=vector(0,0,11.848),radius=0.1,emissive=True,texture=\"earth.png\")\n",
    "Mars=sphere(pos=vector(0,0,12.378),radius=0.053,emissive=True,texture=\"mars.png\")\n",
    "Jupiter=sphere(pos=vector(0,0,16.058),radius=1.119,emissive=True,texture=\"jupiter.png\")\n",
    "Saturn=sphere(pos=vector(0,0,20.378),radius=0.94,emissive=True,texture=\"saturn.png\")\n",
    "Uranus=sphere(pos=vector(0,0,30.058),radius=0.404,emissive=True,texture=\"uranus.png\")\n",
    "Neptune=sphere(pos=vector(0,0,40.9),radius=0.388,emissive=True,texture=\"neptune.png\")\n",
    "\n",
    "               \n",
    "# Declaring Orbital Rings of Celestial Body Objects\n",
    "Mercury.orbit = ring(pos = vec(0,0,0), axis = vec(0, 1, 0), radius=11.2,thickness=0.005)\n",
    "Venus.orbitg   = ring(pos = vec(0, 0, 0), axis = vec(0, 1, 0), radius=11.578,thickness=0.005)\n",
    "Earth.orbit   = ring(pos = vec(0, 0, 0), axis = vec(0, 1, 0), radius=11.848,thickness=0.005)\n",
    "Mars.orbit    = ring(pos = vec(0, 0, 0), axis = vec(0, 1, 0), radius=12.378,thickness=0.005)\n",
    "Jupiter.orbit = ring(pos = vec(0, 0, 0), axis = vec(0, 1, 0), radius=16.058,thickness=0.01)\n",
    "Saturn.orbit  = ring(pos = vec(0, 0, 0), axis = vec(0, 1, 0), radius=20.378,thickness=0.01)\n",
    "Uranus.orbit  = ring(pos = vec(0, 0, 0), axis = vec(0, 1, 0), radius=30.058,thickness=0.01)\n",
    "Neptune.orbit = ring(pos = vec(0, 0, 0), axis = vec(0, 1, 0), radius=40.9,thickness=0.01)\n",
    "\n",
    "Sring=[1.09,1.1,1.12,1.14,1.16,1.19,1.2,1.21,1.22,1.23,1.25,1.27,1.3,1.29,1.31,1.32,1.34,1.36,1.39,1.4,1.41,1.42,1.43,1.45,1.47,1.48,1.5]\n",
    "for i in Sring:\n",
    "    Saturn.ring  = ring(pos = vec(0, 0, 20.378), axis = vec(-0.5, 1, 0), radius=i,thickness=0.01,emissive=True,texture=\"sring.png\")\n",
    "    \n",
    "\n",
    "while True:\n",
    "    Sun.rotate(angle=radians(0.04082),axis=vec(0,1,0),origin=vector(0,0,0))\n",
    "    Mercury.rotate(angle=radians(0.0056),axis=vec(0,1,0),origin=vector(0,0,11.2))\n",
    "    Venus.rotate(angle=radians(0.0085),axis=vec(0,-1,0),origin=vector(0,0,11.578))\n",
    "    Earth.rotate(angle=radians(1),axis=vec(0,1,0),origin=vector(0,0,11.848))\n",
    "    Mars.rotate(angle=radians(0.9728),axis=vec(0,1,0),origin=vector(0,0,12.378))\n",
    "    Jupiter.rotate(angle=radians(2.4),axis=vec(0,1,0),origin=vector(0,0,16.058))\n",
    "    Saturn.rotate(angle=radians(2.1818),axis=vec(0,1,0),origin=vector(0,0,20.378))\n",
    "    Uranus.rotate(angle=radians(1.4117),axis=vec(0,-1,0),origin=vector(0,0,30.058))\n",
    "    Neptune.rotate(angle=radians(1.5),axis=vec(0,1,0),origin=vector(0,0,40.9))\n",
    "    \n",
    "    rate(15)\n",
    "\n",
    "    "
   ]
  },
  {
   "cell_type": "code",
   "execution_count": null,
   "metadata": {},
   "outputs": [],
   "source": [
    "\n"
   ]
  },
  {
   "cell_type": "code",
   "execution_count": null,
   "metadata": {},
   "outputs": [],
   "source": []
  }
 ],
 "metadata": {
  "kernelspec": {
   "display_name": "VPython",
   "language": "python",
   "name": "vpython"
  },
  "language_info": {
   "codemirror_mode": {
    "name": "ipython",
    "version": 3
   },
   "file_extension": ".py",
   "mimetype": "text/x-python",
   "name": "python",
   "nbconvert_exporter": "python",
   "pygments_lexer": "ipython3",
   "version": "3.7.1"
  }
 },
 "nbformat": 4,
 "nbformat_minor": 2
}
